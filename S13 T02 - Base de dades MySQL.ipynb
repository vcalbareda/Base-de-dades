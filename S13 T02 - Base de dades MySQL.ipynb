{
 "cells": [
  {
   "cell_type": "markdown",
   "id": "5cb52804",
   "metadata": {},
   "source": [
    "**Descripció**\n",
    "Crear base de dades amb MySQL."
   ]
  },
  {
   "cell_type": "code",
   "execution_count": 2,
   "id": "08ea561c",
   "metadata": {},
   "outputs": [],
   "source": [
    "import mysql.connector\n",
    "import pymysql\n",
    "pymysql.install_as_MySQLdb()\n",
    "import MySQLdb\n",
    "from tabulate import tabulate\n",
    "import pandas as pd\n",
    "import matplotlib.pyplot as plt\n",
    "import numpy as np"
   ]
  },
  {
   "cell_type": "markdown",
   "id": "57e335d3",
   "metadata": {},
   "source": [
    "### Nivell 1\n",
    "**- Exercici 1:**\n",
    "\n",
    "Crea una base de dades relacionals senzilla utilitzant MySQL(https://www.mysql.com/) i connecta-la a Python"
   ]
  },
  {
   "cell_type": "code",
   "execution_count": 3,
   "id": "ac351097",
   "metadata": {},
   "outputs": [],
   "source": [
    "# Conexión a SQL almacenado en local\n",
    "mydb = mysql.connector.connect(\n",
    "  host=\"localhost\",\n",
    "  user=\"root\",\n",
    "  password=\"12345678\"\n",
    ")\n",
    "\n",
    "mycursor = mydb.cursor()"
   ]
  },
  {
   "cell_type": "code",
   "execution_count": null,
   "id": "435f8d6d",
   "metadata": {},
   "outputs": [],
   "source": [
    "# Creo la base de datos con nombre Veterninario\n",
    "mycursor.execute(\"CREATE DATABASE Veterinario\")"
   ]
  },
  {
   "cell_type": "code",
   "execution_count": 4,
   "id": "dd70de88",
   "metadata": {
    "scrolled": true
   },
   "outputs": [
    {
     "name": "stdout",
     "output_type": "stream",
     "text": [
      "('information_schema',)\n",
      "('mysql',)\n",
      "('performance_schema',)\n",
      "('sys',)\n",
      "('Veterinario',)\n"
     ]
    }
   ],
   "source": [
    "# Compruebo que se ha creado la base de datos y muestro todas las que hay en el equipo\n",
    "mycursor.execute(\"SHOW DATABASES\")\n",
    "\n",
    "for x in mycursor:\n",
    "    print(x)"
   ]
  },
  {
   "cell_type": "code",
   "execution_count": 5,
   "id": "9ac13294",
   "metadata": {},
   "outputs": [],
   "source": [
    "# Selecciono la base de datos Veterinario para conectarme y trabajar en ella\n",
    "mydb = mysql.connector.connect(\n",
    "  host=\"localhost\",\n",
    "  user=\"root\",\n",
    "  password=\"12345678\",\n",
    "  database=\"Veterinario\"\n",
    ")"
   ]
  },
  {
   "cell_type": "code",
   "execution_count": 6,
   "id": "dc08ceed",
   "metadata": {},
   "outputs": [],
   "source": [
    "mycursor = mydb.cursor()"
   ]
  },
  {
   "cell_type": "code",
   "execution_count": 7,
   "id": "afd887b9",
   "metadata": {},
   "outputs": [],
   "source": [
    "# Creo una tabla para las Mascotas de la clínica en la que se almacenará su ficha\n",
    "mycursor.execute(\"CREATE TABLE Mascota (Nombre VARCHAR(255), Especie VARCHAR(255), NombreDueño VARCHAR(255), ApellidoDueño VARCHAR(255),NumeroChip INT)\")"
   ]
  },
  {
   "cell_type": "code",
   "execution_count": 8,
   "id": "ea15d353",
   "metadata": {},
   "outputs": [],
   "source": [
    "# Creo una segunda tabla en la que almacenaremos la ficha de los propietarios de las mascotas\n",
    "mycursor.execute(\"CREATE TABLE Familiar (Nombre VARCHAR(255), Apellido VARCHAR(255), DNI VARCHAR(255), Mascota VARCHAR(255))\")"
   ]
  },
  {
   "cell_type": "code",
   "execution_count": 9,
   "id": "06bb80bf",
   "metadata": {},
   "outputs": [
    {
     "name": "stdout",
     "output_type": "stream",
     "text": [
      "3 record inserted.\n"
     ]
    }
   ],
   "source": [
    "# Añado tres registros a la tabla de Mascotas\n",
    "sql = \"INSERT INTO Mascota (Nombre, Especie, NombreDueño, ApellidoDueño, NumeroChip ) VALUES (%s, %s, %s, %s, %s)\"\n",
    "val = [\n",
    "       (\"Lux\", \"Gato\", \"Victor\", \"Calvache\", 1),\n",
    "       (\"Ivy\", \"Gato\", \"Leia\", \"Organa\", 2),\n",
    "       (\"Blacky\", \"Perro\", \"Patti\", \"Smith\", 3)\n",
    "      ]\n",
    "mycursor.executemany(sql, val)\n",
    "\n",
    "mydb.commit()\n",
    "\n",
    "print(mycursor.rowcount, \"record inserted.\")"
   ]
  },
  {
   "cell_type": "code",
   "execution_count": 42,
   "id": "7dc1d586",
   "metadata": {},
   "outputs": [
    {
     "name": "stdout",
     "output_type": "stream",
     "text": [
      "3 record inserted.\n"
     ]
    }
   ],
   "source": [
    "# Añado tres registros a la tabla de Familiar\n",
    "sql = \"INSERT INTO Familiar (Nombre, Apellido, DNI, Mascota ) VALUES (%s, %s, %s, %s)\"\n",
    "val = [\n",
    "       (\"Victor\", \"Calvache\", \"12345678W\", \"Lux\"),\n",
    "       (\"Leia\", \"Organa\", \"12345678X\", \"Ivy\"),\n",
    "       (\"Patti\", \"Smith\", \"12345678Y\", \"Blacky\")\n",
    "      ]\n",
    "mycursor.executemany(sql, val)\n",
    "\n",
    "mydb.commit()\n",
    "\n",
    "print(mycursor.rowcount, \"record inserted.\")"
   ]
  },
  {
   "cell_type": "code",
   "execution_count": 7,
   "id": "e152549e",
   "metadata": {},
   "outputs": [
    {
     "name": "stdout",
     "output_type": "stream",
     "text": [
      "+----------+------------+-----------+-----------+\n",
      "| Nombre   | Apellido   | DNI       | Mascota   |\n",
      "|----------+------------+-----------+-----------|\n",
      "| Victor   | Calvache   | 12345678W | Lux       |\n",
      "| Leia     | Organa     | 12345678X | Ivy       |\n",
      "| Patti    | Smith      | 12345678Y | Blacky    |\n",
      "+----------+------------+-----------+-----------+\n"
     ]
    }
   ],
   "source": [
    "# Compruebo que los datos se han grabado correctamente en la tabla de mascotas\n",
    "db= MySQLdb.connect(host=\"localhost\",\n",
    "                    user=\"root\",\n",
    "                    password=\"12345678\",\n",
    "                    database=\"Veterinario\")\n",
    "\n",
    "mycursor = mydb.cursor()\n",
    "mycursor.execute(\"SELECT * FROM Familiar\")\n",
    "myresult = mycursor.fetchall()\n",
    "\n",
    "\n",
    "print(tabulate(myresult, headers=['Nombre', 'Apellido', 'DNI', 'Mascota'], tablefmt='psql'))"
   ]
  },
  {
   "cell_type": "code",
   "execution_count": 8,
   "id": "a88a20c0",
   "metadata": {
    "scrolled": true
   },
   "outputs": [
    {
     "name": "stdout",
     "output_type": "stream",
     "text": [
      "+----------+-----------+---------------+-----------------+--------------+\n",
      "| Nombre   | Especie   | NombreDueño   | ApellidoDueño   |   NumeroChip |\n",
      "|----------+-----------+---------------+-----------------+--------------|\n",
      "| Lux      | Gato      | Victor        | Calvache        |            1 |\n",
      "| Ivy      | Gato      | Leia          | Organa          |            2 |\n",
      "| Blacky   | Perro     | Patti         | Smith           |            3 |\n",
      "+----------+-----------+---------------+-----------------+--------------+\n"
     ]
    }
   ],
   "source": [
    "# Compruebo que los datos se han grabado correctamente en la tabla de familiares\n",
    "db= MySQLdb.connect(host=\"localhost\",\n",
    "                    user=\"root\",\n",
    "                    password=\"12345678\",\n",
    "                    database=\"Veterinario\")\n",
    "\n",
    "mycursor = mydb.cursor()\n",
    "mycursor.execute(\"SELECT * FROM Mascota\")\n",
    "myresult = mycursor.fetchall()\n",
    "\n",
    "\n",
    "print(tabulate(myresult, headers=['Nombre', 'Especie', 'NombreDueño', 'ApellidoDueño', 'NumeroChip'], tablefmt='psql'))"
   ]
  },
  {
   "cell_type": "markdown",
   "id": "da82a51d",
   "metadata": {},
   "source": [
    "### Nivell 2\n",
    "\n",
    "**- Exercici 2:**\n",
    "\n",
    "Mostra que pots carregar algunes consultes senzilles a un Pandas Dataframe."
   ]
  },
  {
   "cell_type": "code",
   "execution_count": 18,
   "id": "ce62a676",
   "metadata": {
    "scrolled": true
   },
   "outputs": [
    {
     "name": "stdout",
     "output_type": "stream",
     "text": [
      "Total Gatos : [(2,)]\n"
     ]
    }
   ],
   "source": [
    "# Cuento la cantidad de Gatos que tiene la tabla Mascota\n",
    "cats=\"SELECT COUNT(Especie) FROM Mascota WHERE Especie=\\\"Gato\\\" \"\n",
    "mycursor.execute(cats)\n",
    "cats=mycursor.fetchall()\n",
    "print('Total Gatos :',cats)"
   ]
  },
  {
   "cell_type": "code",
   "execution_count": 19,
   "id": "3eb213fc",
   "metadata": {},
   "outputs": [
    {
     "name": "stdout",
     "output_type": "stream",
     "text": [
      "Total Perros : [(1,)]\n"
     ]
    }
   ],
   "source": [
    "# Cuento la cantidad de Perros que tiene la tabla Mascota\n",
    "dogs=\"SELECT COUNT(Especie) FROM Mascota WHERE Especie=\\\"Perro\\\" \"\n",
    "mycursor.execute(dogs)\n",
    "dogs=mycursor.fetchall()\n",
    "print('Total Perros :',dogs)"
   ]
  },
  {
   "cell_type": "code",
   "execution_count": 21,
   "id": "39506268",
   "metadata": {},
   "outputs": [],
   "source": [
    "# Almaceno la cantidad de Gatos y Perros  en un diccionario \n",
    "all_cats = (cats[0][0])\n",
    "all_dogs = (dogs[0][0])\n",
    "\n",
    "values = {\n",
    "  'Cats': [all_cats],\n",
    "  'Dogs': [all_cats]\n",
    "}"
   ]
  },
  {
   "cell_type": "code",
   "execution_count": 22,
   "id": "2429e8ae",
   "metadata": {},
   "outputs": [],
   "source": [
    "# Convierto el diccionario en un Data Frame de Pandas\n",
    "df = pd.DataFrame(values)"
   ]
  },
  {
   "cell_type": "code",
   "execution_count": 23,
   "id": "559596ec",
   "metadata": {
    "scrolled": true
   },
   "outputs": [
    {
     "name": "stdout",
     "output_type": "stream",
     "text": [
      "   Cats  Dogs\n",
      "0     2     2\n"
     ]
    }
   ],
   "source": [
    "print(df)"
   ]
  },
  {
   "cell_type": "markdown",
   "id": "e49a4300",
   "metadata": {},
   "source": [
    "### Nivell 3\n",
    "\n",
    "**- Exercici 3:**\n",
    "\n",
    "Genera algun gràfic que resumeixi les dades. "
   ]
  },
  {
   "cell_type": "code",
   "execution_count": 17,
   "id": "b09944d1",
   "metadata": {
    "scrolled": true
   },
   "outputs": [
    {
     "data": {
      "image/png": "[encoded data removed]",
      "text/plain": [
       "<Figure size 432x288 with 1 Axes>"
      ]
     },
     "metadata": {
      "needs_background": "light"
     },
     "output_type": "display_data"
    }
   ],
   "source": [
    "# Creo un gráfico de barras que muestra la cantidad de especies distintas de animales de la clínica \n",
    "df = pd.DataFrame({'Animal type':['Cats', 'Dogs'], 'Quantity':[all_cats, all_dogs]})\n",
    "ax = df.plot.bar(x='Animal type', y='Quantity', rot=0)"
   ]
  }
 ],
 "metadata": {
  "kernelspec": {
   "display_name": "Python 3 (ipykernel)",
   "language": "python",
   "name": "python3"
  },
  "language_info": {
   "codemirror_mode": {
    "name": "ipython",
    "version": 3
   },
   "file_extension": ".py",
   "mimetype": "text/x-python",
   "name": "python",
   "nbconvert_exporter": "python",
   "pygments_lexer": "ipython3",
   "version": "3.9.7"
  },
  "latex_envs": {
   "LaTeX_envs_menu_present": true,
   "autoclose": false,
   "autocomplete": true,
   "bibliofile": "biblio.bib",
   "cite_by": "apalike",
   "current_citInitial": 1,
   "eqLabelWithNumbers": true,
   "eqNumInitial": 1,
   "hotkeys": {
    "equation": "Ctrl-E",
    "itemize": "Ctrl-I"
   },
   "labels_anchors": false,
   "latex_user_defs": false,
   "report_style_numbering": false,
   "user_envs_cfg": false
  }
 },
 "nbformat": 4,
 "nbformat_minor": 5
}
